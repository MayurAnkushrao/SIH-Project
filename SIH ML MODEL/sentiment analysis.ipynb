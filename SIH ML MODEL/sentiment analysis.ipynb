{
 "cells": [
  {
   "cell_type": "code",
   "execution_count": 3,
   "id": "f99738fb",
   "metadata": {},
   "outputs": [
    {
     "name": "stderr",
     "output_type": "stream",
     "text": [
      "[nltk_data] Downloading package stopwords to\n",
      "[nltk_data]     C:\\Users\\Mayur\\AppData\\Roaming\\nltk_data...\n",
      "[nltk_data]   Package stopwords is already up-to-date!\n"
     ]
    }
   ],
   "source": [
    "import numpy as np\n",
    "import pandas as pd\n",
    "import re\n",
    "import nltk\n",
    "nltk.download('stopwords')\n",
    "from nltk.corpus import stopwords\n",
    "from nltk.stem.porter import PorterStemmer\n",
    "from sklearn.feature_extraction.text import TfidfVectorizer\n",
    "from sklearn.model_selection import train_test_split\n",
    "from sklearn.linear_model import LogisticRegression\n",
    "from sklearn.metrics import accuracy_score"
   ]
  },
  {
   "cell_type": "code",
   "execution_count": 4,
   "id": "d2f41125",
   "metadata": {},
   "outputs": [
    {
     "name": "stdout",
     "output_type": "stream",
     "text": [
      "(1600000, 6)\n",
      "   target          id                          date      flag  \\\n",
      "0       0  1467810369  Mon Apr 06 22:19:45 PDT 2009  NO_QUERY   \n",
      "1       0  1467810672  Mon Apr 06 22:19:49 PDT 2009  NO_QUERY   \n",
      "2       0  1467810917  Mon Apr 06 22:19:53 PDT 2009  NO_QUERY   \n",
      "3       0  1467811184  Mon Apr 06 22:19:57 PDT 2009  NO_QUERY   \n",
      "4       0  1467811193  Mon Apr 06 22:19:57 PDT 2009  NO_QUERY   \n",
      "\n",
      "              user                                               text  \n",
      "0  _TheSpecialOne_  @switchfoot http://twitpic.com/2y1zl - Awww, t...  \n",
      "1    scotthamilton  is upset that he can't update his Facebook by ...  \n",
      "2         mattycus  @Kenichan I dived many times for the ball. Man...  \n",
      "3          ElleCTF    my whole body feels itchy and like its on fire   \n",
      "4           Karoli  @nationwideclass no, it's not behaving at all....  \n"
     ]
    }
   ],
   "source": [
    "col_names = ['target', 'id', 'date', 'flag', 'user', 'text']\n",
    "data = pd.read_csv('training.1600000.processed.noemoticon.csv.zip', encoding='ISO-8859-1', names=col_names)\n",
    "print(data.shape)\n",
    "print(data.head())"
   ]
  },
  {
   "cell_type": "code",
   "execution_count": 5,
   "id": "3f764d4b",
   "metadata": {},
   "outputs": [],
   "source": [
    "\n",
    "# Only use the 'text' and 'target' columns\n",
    "data = data[['target', 'text']]\n",
    "# Replace target label 4 with 1 (so target is 0=negative, 1=positive)\n",
    "data['target'] = data['target'].replace(4, 1)"
   ]
  },
  {
   "cell_type": "code",
   "execution_count": 6,
   "id": "dbf8dd7f",
   "metadata": {},
   "outputs": [],
   "source": [
    "ps = PorterStemmer()\n",
    "stop_words = set(stopwords.words('english'))"
   ]
  },
  {
   "cell_type": "code",
   "execution_count": 7,
   "id": "53e2b9d0",
   "metadata": {},
   "outputs": [],
   "source": [
    "def preprocess(text):\n",
    "    # Remove non-letters\n",
    "    text = re.sub('[^a-zA-Z]', ' ', text)\n",
    "    # Lowercase\n",
    "    text = text.lower()\n",
    "    # Tokenize\n",
    "    words = text.split()\n",
    "    # Remove stopwords and stem each word\n",
    "    words = [ps.stem(word) for word in words if word not in stop_words]\n",
    "    # Join words back into a single string\n",
    "    return ' '.join(words)"
   ]
  },
  {
   "cell_type": "code",
   "execution_count": 8,
   "id": "4e78ca34",
   "metadata": {},
   "outputs": [],
   "source": [
    "# Apply preprocessing to all tweets (this might take some time with the full dataset!)\n",
    "data['text'] = data['text'].apply(preprocess)\n"
   ]
  },
  {
   "cell_type": "code",
   "execution_count": 9,
   "id": "1f71e513",
   "metadata": {},
   "outputs": [],
   "source": [
    "# 8. Split data into train and test sets\n",
    "X = data['text']\n",
    "y = data['target']\n",
    "X_train, X_test, y_train, y_test = train_test_split(X, y, test_size=0.2, random_state=42, stratify=y)\n"
   ]
  },
  {
   "cell_type": "code",
   "execution_count": null,
   "id": "d3df0e80",
   "metadata": {},
   "outputs": [],
   "source": [
    "# 9. Vectorize text using TF-IDF\n",
    "vectorizer = TfidfVectorizer(max_features=5000)\n",
    "X_train_vec = vectorizer.fit_transform(X_train)\n",
    "X_test_vec = vectorizer.transform(X_test)"
   ]
  },
  {
   "cell_type": "code",
   "execution_count": null,
   "id": "e37c753d",
   "metadata": {},
   "outputs": [],
   "source": [
    "# 10. Train logistic regression model\n",
    "model = LogisticRegression(max_iter=1000)\n",
    "model.fit(X_train_vec, y_train)\n"
   ]
  },
  {
   "cell_type": "code",
   "execution_count": null,
   "id": "7b132ebf",
   "metadata": {},
   "outputs": [],
   "source": [
    "# 11. Evaluate model accuracy\n",
    "y_pred = model.predict(X_test_vec)\n",
    "acc = accuracy_score(y_test, y_pred)\n",
    "print(\"Test Accuracy:\", acc)"
   ]
  },
  {
   "cell_type": "code",
   "execution_count": null,
   "id": "73251225",
   "metadata": {},
   "outputs": [],
   "source": [
    "# 12. Predict sentiment for new tweets and print True/False\n",
    "sample_tweets = [\"I love this!\", \"I hate that!\", \"It was okay, not great.\"]\n",
    "sample_vec = vectorizer.transform(sample_tweets)\n",
    "predictions = model.predict(sample_vec)\n",
    "\n",
    "# Output True if positive (label 1), False if negative (label 0)\n",
    "output = [bool(pred) for pred in predictions]\n",
    "print(output)  # Example result: [True, False, False]"
   ]
  },
  {
   "cell_type": "code",
   "execution_count": null,
   "id": "42ef4cda",
   "metadata": {},
   "outputs": [],
   "source": [
    "# Vectorize the test tweets (from dataset)\n",
    "X_test_vec = vectorizer.transform(X_test)\n",
    "\n",
    "# Predict sentiment for test tweets\n",
    "test_predictions = model.predict(X_test_vec)\n",
    "\n",
    "# Convert predictions: True for positive, False for negative\n",
    "output = [bool(pred) for pred in test_predictions]\n",
    "\n",
    "# Print each tweet with its True/False sentiment\n",
    "for tweet, sentiment in zip(X_test, output):\n",
    "    print(tweet, sentiment)\n"
   ]
  },
  {
   "cell_type": "code",
   "execution_count": null,
   "id": "882a2ab1-f415-4ee1-b5a4-d4dc0636a615",
   "metadata": {},
   "outputs": [],
   "source": [
    "import pickle\n",
    "\n",
    "# Suppose your trained model is in variable `model`\n",
    "# and your text vectorizer (CountVectorizer / TfidfVectorizer) is in variable `vectorizer`\n",
    "\n",
    "with open(\"model.pkl\", \"wb\") as f:\n",
    "    pickle.dump(model, f)\n",
    "\n",
    "with open(\"vectorizer.pkl\", \"wb\") as f:\n",
    "    pickle.dump(vectorizer, f)\n",
    "\n",
    "print(\"✅ Model and vectorizer saved successfully!\")\n"
   ]
  },
  {
   "cell_type": "code",
   "execution_count": null,
   "id": "a0c34469",
   "metadata": {},
   "outputs": [],
   "source": []
  },
  {
   "cell_type": "code",
   "execution_count": null,
   "id": "a2716c2a-b69b-4b21-a5f9-c28e53fbf5d9",
   "metadata": {},
   "outputs": [],
   "source": []
  }
 ],
 "metadata": {
  "kernelspec": {
   "display_name": "Python 3 (ipykernel)",
   "language": "python",
   "name": "python3"
  },
  "language_info": {
   "codemirror_mode": {
    "name": "ipython",
    "version": 3
   },
   "file_extension": ".py",
   "mimetype": "text/x-python",
   "name": "python",
   "nbconvert_exporter": "python",
   "pygments_lexer": "ipython3",
   "version": "3.12.7"
  }
 },
 "nbformat": 4,
 "nbformat_minor": 5
}
